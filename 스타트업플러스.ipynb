{
 "cells": [
  {
   "cell_type": "code",
   "execution_count": 16,
   "id": "bc1d042c",
   "metadata": {},
   "outputs": [],
   "source": [
    "from selenium import webdriver as wb\n",
    "from selenium.webdriver.common.by import By\n",
    "from selenium.webdriver.common.keys import Keys\n",
    "import time \n",
    "import json\n",
    "import requests as req\n",
    "import pandas as pd\n",
    "from bs4 import BeautifulSoup as bs\n",
    "import os\n",
    "from tqdm import tqdm_notebook as tq\n",
    "from urllib.request import urlretrieve\n",
    "from datetime import date, timedelta\n",
    "\n",
    "from urllib.parse import urlparse\n",
    "import urllib"
   ]
  },
  {
   "cell_type": "code",
   "execution_count": 17,
   "id": "0b48398e",
   "metadata": {},
   "outputs": [],
   "source": [
    "yesterday = date.today() - timedelta(1) # 어제날짜\n",
    "result = yesterday.strftime(\"%Y.%m.%d\") # 문자열로 변환"
   ]
  },
  {
   "cell_type": "code",
   "execution_count": 18,
   "id": "36a90c2a",
   "metadata": {},
   "outputs": [
    {
     "data": {
      "text/plain": [
       "'2022.12.19'"
      ]
     },
     "execution_count": 18,
     "metadata": {},
     "output_type": "execute_result"
    }
   ],
   "source": [
    "result"
   ]
  },
  {
   "cell_type": "code",
   "execution_count": 217,
   "id": "bdbaa705",
   "metadata": {},
   "outputs": [
    {
     "name": "stdout",
     "output_type": "stream",
     "text": [
      "끝\n"
     ]
    }
   ],
   "source": [
    "# 스타트업 플러스\n",
    "\n",
    "url_list = []\n",
    "other_url_list = []\n",
    "img_list = []\n",
    "file_list = []\n",
    "\n",
    "driver = wb.Chrome()\n",
    "driver.get('https://www.startup-plus.kr/cms_for_portal/process/program/list.do?show_no=&check_no=&c_relation=&c_relation2=&s_period=1')\n",
    "time.sleep(0.5)\n",
    "\n",
    "for i in range(10) : # 총 페이지 수\n",
    "    for j in range(1, 11) : # 한페이지 게시물 수\n",
    "        date = driver.find_element(By.CSS_SELECTOR, \"#wrap > main > div > section > div.content__table.content__table--list > table > tbody > tr:nth-child(\"+str(j)+\") > td.text-align-center.list-date\").text\n",
    "        if date == result : # date가 어제날짜일 경우\n",
    "            btn = driver.find_element(By.CSS_SELECTOR, \"#wrap > main > div > section > div.content__table.content__table--list > table > tbody > tr:nth-child(\"+str(j)+\") > td.text-align-left.list-title > a\")\n",
    "            btn.click() # 게시물 들어가기\n",
    "            time.sleep(0.5)\n",
    "            site = driver.current_url[12:24] # 다른 사이트로 가는 게시물도 있기에 주소를 담는다.\n",
    "            if site != \"startup-plus\": # 다른사이트일경우\n",
    "                time.sleep(0.5)\n",
    "                other_url_list.append(driver.current_url) # 주소를 담음\n",
    "                driver.back()\n",
    "            else :\n",
    "                soup = bs(driver.page_source, \"lxml\") # 객체화\n",
    "                img = soup.select(\"div.view-con img\") # None , ''\n",
    "                title = driver.find_element(By.CSS_SELECTOR, \"#wrap > main > div > section > div > div.view-title.d-flex.align-items-center.justify-content-between > div\").text\n",
    "                url_list.append(title + \" : \" + driver.current_url) # url 추출\n",
    "                if len(img) != 0 :\n",
    "                    for k in range(len(img)):\n",
    "                        img_list.append(\"https://www.startup-plus.kr\" + img[i][\"src\"].replace(\" \", \"%20\")) # 사진 추출 \n",
    "\n",
    "                \n",
    "                file = soup.select(\"div.view-con__file > a\") # 첨부파일 있냐 ?\n",
    "                if len(file) != 0 :\n",
    "                    for i in range(len(file)): \n",
    "                        file_list.append(\"https://www.startup-plus.kr/\" + file[i][\"href\"])\n",
    "\n",
    "                back_btn = driver.find_element(By.CSS_SELECTOR, \"#wrap > main > div > section > div > div.common__btn-box > a.common__button.color-gray\")\n",
    "                back_btn.click() # 목록가기\n",
    "                time.sleep(0.5)\n",
    "\n",
    "    btn = driver.find_element(By.CSS_SELECTOR, \"#wrap > main > div > section > ul > li.common__pagination-next > a\")\n",
    "    btn.click()\n",
    "    time.sleep(0.5)\n"
   ]
  },
  {
   "cell_type": "code",
   "execution_count": 23,
   "id": "77f3c17b",
   "metadata": {
    "collapsed": true
   },
   "outputs": [
    {
     "ename": "IndentationError",
     "evalue": "unexpected indent (318299949.py, line 14)",
     "output_type": "error",
     "traceback": [
      "\u001b[1;36m  Input \u001b[1;32mIn [23]\u001b[1;36m\u001b[0m\n\u001b[1;33m    btn = driver.find_element(By.CSS_SELECTOR, \"#contents > div > table > tbody > tr:nth-child(\"+str(j)+\") > td.tit > a\")\u001b[0m\n\u001b[1;37m    ^\u001b[0m\n\u001b[1;31mIndentationError\u001b[0m\u001b[1;31m:\u001b[0m unexpected indent\n"
     ]
    }
   ],
   "source": [
    "# 한국테크노파크진흥회\n",
    "\n",
    "img_list = []\n",
    "title_list = []\n",
    "file_list = []\n",
    "\n",
    "driver = wb.Chrome()\n",
    "driver.get('http://www.technopark.kr/businessboard')\n",
    "time.sleep(0.5)\n",
    "\n",
    "for i in range(3, 14):\n",
    "    for j in range(1, 21): # 한 페이지당 게시물 수\n",
    "        date = driver.find_element(By.CSS_SELECTOR, \"#contents > div > table > tbody > tr:nth-child(\"+str(j)+\") > td.time\").text\n",
    "        if date == result : # 어제 날짜면\n",
    "            btn = driver.find_element(By.CSS_SELECTOR, \"#contents > div > table > tbody > tr:nth-child(\"+str(j)+\") > td.tit > a\")\n",
    "            btn.click()\n",
    "\n",
    "            time.sleep(1)\n",
    "\n",
    "            soup = bs(driver.page_source, \"lxml\") # 객체화\n",
    "            img = soup.select(\"div.boad_view img\") # None , ''\n",
    "            title = driver.find_element(By.CSS_SELECTOR, \"#contents > div > table.tb_board_view > thead > tr > th\").text\n",
    "            file = soup.select(\"div.board_add_file a\")\n",
    "            for i in range(len(file)) :\n",
    "                file_list.append(\"http://www.technopark.kr\" + file[i][\"href\"])\n",
    "\n",
    "            if len(img) != 0 :\n",
    "                for k in range(len(img)):\n",
    "                    img_list.append(title+\".\"+img[k][\"src\"].replace(\" \", \"%20\")) # 사진 추출         \n",
    "            else :\n",
    "                title_list.append(title) # 사진 없는 게시물 제목만\n",
    "            back_btn = driver.find_element(By.CSS_SELECTOR, \"#contents > div > p > a\")\n",
    "            back_btn.click()\n",
    "    next_btn = driver.find_element(By.CSS_SELECTOR, f\"#contents > div > div.pagination > a:nth-child({i})\")\n",
    "    next_btn.click()"
   ]
  },
  {
   "cell_type": "code",
   "execution_count": 24,
   "id": "2f928d73",
   "metadata": {},
   "outputs": [],
   "source": [
    "# 한국테크노파크진흥회\n",
    "\n",
    "img_list = []\n",
    "title_list = []\n",
    "file_list = []\n",
    "\n",
    "driver = wb.Chrome()\n",
    "driver.get('http://www.technopark.kr/businessboard')\n",
    "time.sleep(0.5)\n",
    "\n",
    "for j in range(1, 21): # 한 페이지당 게시물 수\n",
    "    date = driver.find_element(By.CSS_SELECTOR, \"#contents > div > table > tbody > tr:nth-child(\"+str(j)+\") > td.time\").text\n",
    "    btn = driver.find_element(By.CSS_SELECTOR, \"#contents > div > table > tbody > tr:nth-child(\"+str(j)+\") > td.tit > a\")\n",
    "    btn.click()\n",
    "        \n",
    "    time.sleep(1)\n",
    "        \n",
    "    soup = bs(driver.page_source, \"lxml\") # 객체화\n",
    "    img = soup.select(\"div.boad_view img\") # None , ''\n",
    "    title = driver.find_element(By.CSS_SELECTOR, \"#contents > div > table.tb_board_view > thead > tr > th\").text\n",
    "    file = soup.select(\"div.board_add_file a\")\n",
    "    for i in range(len(file)) :\n",
    "        file_list.append(\"http://www.technopark.kr\" + file[i][\"href\"])\n",
    "        \n",
    "    if len(img) != 0 :\n",
    "        for k in range(len(img)):\n",
    "            img_list.append(title+\".\"+img[k][\"src\"].replace(\" \", \"%20\")) # 사진 추출         \n",
    "    else :\n",
    "        title_list.append(title) # 사진 없는 게시물 제목만\n",
    "    back_btn = driver.find_element(By.CSS_SELECTOR, \"#contents > div > p > a\")\n",
    "    back_btn.click()"
   ]
  },
  {
   "cell_type": "code",
   "execution_count": 19,
   "id": "72b1f2ba",
   "metadata": {},
   "outputs": [],
   "source": [
    "title_list = []\n",
    "url_list = []\n",
    "file_list = []\n",
    "\n",
    "site = \"https://www.bizinfo.go.kr\"\n",
    "mydir ='C:/Users/smhrd/Desktop/지원사업/기업마당/'\n",
    "\n",
    "# 기업마당\n",
    "driver = wb.Chrome()\n",
    "driver.get('https://www.bizinfo.go.kr/web/lay1/bbs/S1T122C128/AS/74/list.do')\n",
    "time.sleep(0.5)\n",
    "\n",
    "for j in range(3, 13) : # 긁을 페이지\n",
    "    for i in range(1, 16) : # 페이지당 게시물\n",
    "        date = driver.find_element(By.CSS_SELECTOR, \"#articleSearchForm > div.support_project > div.table_Type_1 > table > tbody > tr:nth-child(\" + str(i) + \") > td:nth-child(6)\").text.replace(\"-\", \".\")\n",
    "        if date == result : # 날짜가 어제면\n",
    "            btn = driver.find_element(By.CSS_SELECTOR, \"#articleSearchForm > div.support_project > div.table_Type_1 > table > tbody > tr:nth-child(\" + str(i) + \") > td.txt_l > a\")\n",
    "            btn.click()\n",
    "\n",
    "            time.sleep(1)\n",
    "\n",
    "            title = driver.find_element(By.CSS_SELECTOR, \"#container > div.sub_cont > div.sub_cont.support_project > div.support_project_detail > div.title_area > div:nth-child(1) > h2\").text\n",
    "            url_list.append(title + \" : \" + driver.current_url) # url 추출\n",
    "            \n",
    "            soup = bs(driver.page_source, \"lxml\")\n",
    "            \n",
    "            file = soup.select('div.right_btn > a.basic-btn01.btn-gray-bd.icon_download')\n",
    "            \n",
    "            for i in range(len(file)) :\n",
    "                file_list.append(site+file[i]['href'])\n",
    "\n",
    "            back_btn = driver.find_element(By.CSS_SELECTOR, \"#goList\") # 목록으로\n",
    "            back_btn.click()\n",
    "            \n",
    "    next_btn = driver.find_element(By.CSS_SELECTOR, \"#container > div.sub_cont > div.page_wrap > a:nth-child(\"+ str(j) +\")\")\n",
    "    next_btn.click()"
   ]
  }
 ],
 "metadata": {
  "kernelspec": {
   "display_name": "Python 3 (ipykernel)",
   "language": "python",
   "name": "python3"
  },
  "language_info": {
   "codemirror_mode": {
    "name": "ipython",
    "version": 3
   },
   "file_extension": ".py",
   "mimetype": "text/x-python",
   "name": "python",
   "nbconvert_exporter": "python",
   "pygments_lexer": "ipython3",
   "version": "3.9.12"
  },
  "toc": {
   "base_numbering": 1,
   "nav_menu": {},
   "number_sections": true,
   "sideBar": true,
   "skip_h1_title": false,
   "title_cell": "Table of Contents",
   "title_sidebar": "Contents",
   "toc_cell": false,
   "toc_position": {},
   "toc_section_display": true,
   "toc_window_display": false
  }
 },
 "nbformat": 4,
 "nbformat_minor": 5
}
