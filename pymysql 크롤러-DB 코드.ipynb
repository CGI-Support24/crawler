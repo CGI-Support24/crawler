{
 "cells": [
  {
   "cell_type": "code",
   "execution_count": null,
   "id": "1599aea1",
   "metadata": {},
   "outputs": [],
   "source": [
    "pip install PyMySQL"
   ]
  },
  {
   "cell_type": "code",
   "execution_count": 14,
   "id": "f67f8729",
   "metadata": {},
   "outputs": [],
   "source": [
    "import pymysql\n",
    "import pandas as pd"
   ]
  },
  {
   "cell_type": "code",
   "execution_count": 120,
   "id": "c6f7d1c9",
   "metadata": {},
   "outputs": [],
   "source": [
    "columns = ['crl_contents','crl_src','crl_url'] # src는 NaN 이어도 insert 가능, seq와 createdat은 입력 X"
   ]
  },
  {
   "cell_type": "code",
   "execution_count": 101,
   "id": "e8d4b3d9",
   "metadata": {},
   "outputs": [],
   "source": [
    "DBinput = pd.DataFrame(columns=columns)"
   ]
  },
  {
   "cell_type": "code",
   "execution_count": 121,
   "id": "64d84afb",
   "metadata": {},
   "outputs": [],
   "source": [
    "# DBinput 안에 src, url, contents append 해주세요"
   ]
  },
  {
   "cell_type": "code",
   "execution_count": 119,
   "id": "adfa10ec",
   "metadata": {},
   "outputs": [],
   "source": [
    "def insert(sql):\n",
    "    conn = pymysql.connect(host='project-db-stu.ddns.net', port=3307, user='support24', password='support24', db='support24', charset='utf8')\n",
    "    with conn:\n",
    "        with conn.cursor() as cur:\n",
    "#            cur.execute(\"set names utf8\")    # 없어도 한글 안깨지길래 주석처리함\n",
    "            cur.execute(sql)\n",
    "            conn.commit()\n",
    "            result = cur.fetchall()"
   ]
  },
  {
   "cell_type": "code",
   "execution_count": 118,
   "id": "4762c158",
   "metadata": {},
   "outputs": [],
   "source": [
    "DBinput['crl_src'] = DBinput['crl_src'].fillna('0')\n",
    "for i in range(len(DBinput)):\n",
    "    contents = DBinput.iloc[i]['crl_contents']\n",
    "    src = DBinput.iloc[i]['crl_src']\n",
    "    url = DBinput.iloc[i]['crl_url']\n",
    "    sql = '''INSERT INTO tbl_crawling (crl_contents, crl_src, crl_url) VALUES ('%s', '%s', '%s')''' % (contents, src, url)\n",
    "    insert(sql)"
   ]
  }
 ],
 "metadata": {
  "kernelspec": {
   "display_name": "Python 3 (ipykernel)",
   "language": "python",
   "name": "python3"
  },
  "language_info": {
   "codemirror_mode": {
    "name": "ipython",
    "version": 3
   },
   "file_extension": ".py",
   "mimetype": "text/x-python",
   "name": "python",
   "nbconvert_exporter": "python",
   "pygments_lexer": "ipython3",
   "version": "3.9.12"
  },
  "toc": {
   "base_numbering": 1,
   "nav_menu": {},
   "number_sections": true,
   "sideBar": true,
   "skip_h1_title": false,
   "title_cell": "Table of Contents",
   "title_sidebar": "Contents",
   "toc_cell": false,
   "toc_position": {},
   "toc_section_display": true,
   "toc_window_display": false
  }
 },
 "nbformat": 4,
 "nbformat_minor": 5
}
