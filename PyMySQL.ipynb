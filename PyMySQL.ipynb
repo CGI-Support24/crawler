{
 "cells": [
  {
   "cell_type": "code",
   "execution_count": 1,
   "id": "4becd28b",
   "metadata": {
    "scrolled": false
   },
   "outputs": [
    {
     "name": "stdout",
     "output_type": "stream",
     "text": [
      "Requirement already satisfied: PyMySQL in c:\\users\\smhrd\\anaconda3\\lib\\site-packages (1.0.2)\n",
      "Note: you may need to restart the kernel to use updated packages.\n"
     ]
    }
   ],
   "source": [
    "pip install PyMySQL"
   ]
  },
  {
   "cell_type": "code",
   "execution_count": 177,
   "id": "3002d7f6",
   "metadata": {},
   "outputs": [],
   "source": [
    "import pymysql"
   ]
  },
  {
   "cell_type": "code",
   "execution_count": null,
   "id": "dc237549",
   "metadata": {},
   "outputs": [],
   "source": [
    "# 참고 사이트\n",
    "# https://www.fun-coding.org/mysql_advanced1.html"
   ]
  },
  {
   "cell_type": "code",
   "execution_count": 196,
   "id": "f4fb21a8",
   "metadata": {},
   "outputs": [],
   "source": [
    "# 접속\n",
    "db = pymysql.connect(host='project-db-stu.ddns.net', port=3307, user='support24', password='support24', db='support24', charset='utf8')"
   ]
  },
  {
   "cell_type": "code",
   "execution_count": 197,
   "id": "c86608bb",
   "metadata": {},
   "outputs": [],
   "source": [
    "# 커서 가져오기\n",
    "cursor = db.cursor()"
   ]
  },
  {
   "cell_type": "code",
   "execution_count": null,
   "id": "6c27c9f2",
   "metadata": {},
   "outputs": [],
   "source": [
    "#  sql문 실행하면 변동할때마다(insert, update, delete)코드붙여야함\n",
    "db.commit()"
   ]
  },
  {
   "cell_type": "code",
   "execution_count": null,
   "id": "2aa3d5ec",
   "metadata": {},
   "outputs": [],
   "source": [
    "# DB 연결 닫기 크롤러 하나끝날때마다 닫기해줘야할듯 (시간이 조금 경과하면 db연결이 해제되어버림)\n",
    "db.close()"
   ]
  },
  {
   "cell_type": "code",
   "execution_count": null,
   "id": "61173fa0",
   "metadata": {},
   "outputs": [],
   "source": [
    "# 주의사항 크롤링 한번할때마다 시간이 조금경과하면 db접속해제하니 크롤러마다 접속해서 커서가져오는 코드 반복해야함"
   ]
  },
  {
   "cell_type": "code",
   "execution_count": null,
   "id": "91345e52",
   "metadata": {},
   "outputs": [],
   "source": [
    "# 의논사항 크롤러마다 변수명이 달라서 통일이 필요!"
   ]
  },
  {
   "cell_type": "code",
   "execution_count": null,
   "id": "e3bae799",
   "metadata": {},
   "outputs": [],
   "source": [
    "# SQL문\n",
    "# sql = '''\n",
    "#            CREATE TABLE korea2 (\n",
    "#                   id INT UNSIGNED NOT NULL AUTO_INCREMENT,\n",
    "#                   name VARCHAR(20) NOT NULL,\n",
    "#                   model_num VARCHAR(10) NOT NULL,\n",
    "#                   model_type VARCHAR(10) NOT NULL,\n",
    "#                   PRIMARY KEY(id)\n",
    "#            );\n",
    "#        '''"
   ]
  },
  {
   "cell_type": "code",
   "execution_count": null,
   "id": "aeba9e3e",
   "metadata": {},
   "outputs": [],
   "source": [
    "# 값을 직접 db 입력할때 sql\n",
    "#sql = \"INSERT INTO tbl_member(mb_email, mb_id, mb_name, mb_pw) values('1', 'seoul', 'abc', 'asdf')\"\n",
    "#cursor.execute(sql)"
   ]
  },
  {
   "cell_type": "code",
   "execution_count": 89,
   "id": "9e447e5a",
   "metadata": {
    "scrolled": false
   },
   "outputs": [
    {
     "data": {
      "text/plain": [
       "3"
      ]
     },
     "execution_count": 89,
     "metadata": {},
     "output_type": "execute_result"
    }
   ],
   "source": [
    "# 값을 변수로 db에 입력할떄 sql\n",
    "#data = (('1','abc','2e2','sdfg'),('2','wbc','3e2','gdfg'),('3','atc','7e2','idfg'),)\n",
    "#sql = \"insert into tbl_member(mb_email, mb_id, mb_name, mb_pw) values(%s, %s, %s, %s)\"\n",
    "#cursor.executemany(sql,data)"
   ]
  },
  {
   "cell_type": "code",
   "execution_count": 201,
   "id": "8eb36791",
   "metadata": {},
   "outputs": [
    {
     "data": {
      "text/plain": [
       "36"
      ]
     },
     "execution_count": 201,
     "metadata": {},
     "output_type": "execute_result"
    }
   ],
   "source": [
    "# 크롤링한 자료를 그대로 db입력할떄\n",
    "#sql = \"insert ignore into tbl_test(t_name) values(%s)\"\n",
    "#cursor.executemany(sql,name_list)"
   ]
  },
  {
   "cell_type": "code",
   "execution_count": null,
   "id": "621ada6d",
   "metadata": {},
   "outputs": [],
   "source": [
    "# 클라이언트에서 INSERT 시 한글이 깨지지 않도록 다음 SQL 실행이 필요함\n",
    "# cursor = db.cursor()\n",
    "# cursor.execute(\"set names utf8\")\n",
    "# cur.execute(\"insert into tbl values('','한글')\n",
    "# db.commit()"
   ]
  },
  {
   "cell_type": "code",
   "execution_count": null,
   "id": "75caf85f",
   "metadata": {},
   "outputs": [],
   "source": [
    "#https://wikidocs.net/13#_14\n",
    "# number = 10\n",
    "# day = \"three\"\n",
    "# \"I ate %d apples. so I was sick for %s days.\" % (number, day)\n",
    "# 'I ate 10 apples. so I was sick for three days.'"
   ]
  },
  {
   "cell_type": "code",
   "execution_count": null,
   "id": "61c32c9a",
   "metadata": {},
   "outputs": [],
   "source": [
    "# \"I eat %s apples.\" % \"five\"\n",
    "# 'I eat five apples.'"
   ]
  },
  {
   "cell_type": "code",
   "execution_count": null,
   "id": "5c97a58a",
   "metadata": {},
   "outputs": [],
   "source": [
    "# sql = \"insert into jenga_search(title, link, descriptions) values(%s,%s,%s)\"\n",
    "# curs.execute(sql, (i['title'] ,i['link'], i['description']))"
   ]
  },
  {
   "cell_type": "code",
   "execution_count": null,
   "id": "cafbf31c",
   "metadata": {},
   "outputs": [],
   "source": [
    "# http://pythonstudy.xyz/python/article/202-MySQL-%EC%BF%BC%EB%A6%AC\n",
    "# Parameter Placeholder로 %s 를 사용하는데, 이 %s 는 일반 문자열 포맷팅에 사용하는 %s, %d 등과는 다른 것이다. Parameter Placeholder에서는 문자열이건 숫자이건 모두 %s 를 사용하며, 문자열이라도 %s를 인용부호로 둘러싸지 않는다. \n",
    "# 또한 한가지 주의할 점은 Placeholder는 컬럼값을 대치할 때만 사용될 수 있다. 즉 테이블이나 기타 문장에 Placeholder 를 사용할 수 없다."
   ]
  },
  {
   "cell_type": "code",
   "execution_count": null,
   "id": "8f977d70",
   "metadata": {},
   "outputs": [],
   "source": [
    "# 참고 사이트\n",
    "# https://www.fun-coding.org/mysql_advanced1.html"
   ]
  }
 ],
 "metadata": {
  "kernelspec": {
   "display_name": "Python 3 (ipykernel)",
   "language": "python",
   "name": "python3"
  },
  "language_info": {
   "codemirror_mode": {
    "name": "ipython",
    "version": 3
   },
   "file_extension": ".py",
   "mimetype": "text/x-python",
   "name": "python",
   "nbconvert_exporter": "python",
   "pygments_lexer": "ipython3",
   "version": "3.9.12"
  },
  "toc": {
   "base_numbering": 1,
   "nav_menu": {},
   "number_sections": true,
   "sideBar": true,
   "skip_h1_title": false,
   "title_cell": "Table of Contents",
   "title_sidebar": "Contents",
   "toc_cell": false,
   "toc_position": {},
   "toc_section_display": true,
   "toc_window_display": false
  }
 },
 "nbformat": 4,
 "nbformat_minor": 5
}
