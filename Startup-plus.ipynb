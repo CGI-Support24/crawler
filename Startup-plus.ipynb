{
 "cells": [
  {
   "cell_type": "code",
   "execution_count": 93,
   "id": "28fb67ef",
   "metadata": {},
   "outputs": [],
   "source": [
    "from selenium import webdriver as wb\n",
    "from selenium.webdriver.chrome.service import Service\n",
    "from selenium.webdriver.common.by import By\n",
    "from selenium.webdriver.common.keys import Keys\n",
    "from bs4 import BeautifulSoup as bs\n",
    "import pandas as pd\n",
    "import numpy as np\n",
    "import time\n",
    "import os\n",
    "from urllib.request import urlretrieve\n",
    "import requests\n",
    "from datetime import datetime\n",
    "from datetime import timedelta\n",
    "import datetime"
   ]
  },
  {
   "cell_type": "code",
   "execution_count": 100,
   "id": "d6cc0138",
   "metadata": {},
   "outputs": [],
   "source": [
    "field_list = [] # 분야\n",
    "bs_target_list = [] # 사업대상\n",
    "method_list = [] # 신청방법\n",
    "period_list = [] # 접수기간\n",
    "bs_type_list = [] # 사업유형\n",
    "age_list = [] # 대상연령\n",
    "reference_list = [] # 문의처\n",
    "company_name_list = []  # 기관명\n",
    "img_list = [] # 이미지 리스트\n",
    "url_list = [] # 주소 리스트\n",
    "site = driver.current_url[12:24] # 다른사이트로 이동시 url 복사"
   ]
  },
  {
   "cell_type": "code",
   "execution_count": 101,
   "id": "d8793416",
   "metadata": {},
   "outputs": [
    {
     "name": "stdout",
     "output_type": "stream",
     "text": [
      "끝\n"
     ]
    }
   ],
   "source": [
    "# 전체 접수중 크롤링\n",
    "driver = wb.Chrome()\n",
    "driver.get('https://www.startup-plus.kr/cms_for_portal/process/program/list.do?nowPage=1&show_no=906&check_no=96&c_relation=276&c_relation2=903&s_period=1')\n",
    "time.sleep(1)\n",
    "soup = bs(driver.page_source,'lxml')\n",
    "page_count = soup.select('#wrap > main > div > section > ul > li > a')\n",
    "try :\n",
    "    for j in range(len(page_count)-2) :\n",
    "        driver.get(f'https://www.startup-plus.kr/cms_for_portal/process/program/list.do?nowPage={j+1}&show_no=906&check_no=96&c_relation=276&c_relation2=903&s_period=1')\n",
    "        for i in range(1,11) :# 한페이지 게시물\n",
    "            btn2 = driver.find_element(By.CSS_SELECTOR, f'#wrap > main > div > section > div.content__table.content__table--list > table > tbody > tr:nth-child({i}) > td.text-align-left.list-title > a')\n",
    "            btn2.click()\n",
    "            time.sleep(1)\n",
    "            other = driver.current_url[12:24]\n",
    "            if other != 'startup-plus':\n",
    "                url_list.append(driver.current_url)\n",
    "                driver.back()\n",
    "                time.sleep(1)\n",
    "            else :\n",
    "                soup = bs(driver.page_source,'lxml')\n",
    "                field = driver.find_element(By.CSS_SELECTOR,'#wrap > main > div > section > div > div.view-con > div.view-con__table > table:nth-child(1) > tbody > tr:nth-child(1) > td').text\n",
    "                bs_target = driver.find_element(By.CSS_SELECTOR,'#wrap > main > div > section > div > div.view-con > div.view-con__table > table:nth-child(1) > tbody > tr:nth-child(2) > td').text\n",
    "                method = driver.find_element(By.CSS_SELECTOR,'#wrap > main > div > section > div > div.view-con > div.view-con__table > table:nth-child(1) > tbody > tr:nth-child(3) > td').text\n",
    "                period = driver.find_element(By.CSS_SELECTOR,'#wrap > main > div > section > div > div.view-con > div.view-con__table > table:nth-child(1) > tbody > tr:nth-child(4) > td').text\n",
    "                bs_type = driver.find_element(By.CSS_SELECTOR,'#wrap > main > div > section > div > div.view-con > div.view-con__table > table:nth-child(2) > tbody > tr:nth-child(1) > td').text\n",
    "                age = driver.find_element(By.CSS_SELECTOR,'#wrap > main > div > section > div > div.view-con > div.view-con__table > table:nth-child(2) > tbody > tr:nth-child(2) > td').text\n",
    "                reference = driver.find_element(By.CSS_SELECTOR,'#wrap > main > div > section > div > div.view-con > div.view-con__table > table:nth-child(2) > tbody > tr:nth-child(3) > td').text\n",
    "                company_name = driver.find_element(By.CSS_SELECTOR,'#wrap > main > div > section > div > div.view-con > div.view-con__table > table:nth-child(2) > tbody > tr:nth-child(4) > td').text\n",
    "                field_list.append(field)\n",
    "                bs_target_list.append(bs_target)\n",
    "                method_list.append(method)\n",
    "                period_list.append(period)\n",
    "                bs_type_list.append(bs_type)\n",
    "                age_list.append(age)\n",
    "                reference_list.append(reference)\n",
    "                company_name_list.append(company_name)\n",
    "                driver.back()\n",
    "                time.sleep(1)\n",
    "        \n",
    "except:\n",
    "    print(\"끝\")"
   ]
  },
  {
   "cell_type": "code",
   "execution_count": 92,
   "id": "efc82abd",
   "metadata": {},
   "outputs": [
    {
     "name": "stdout",
     "output_type": "stream",
     "text": [
      "끝\n"
     ]
    }
   ],
   "source": [
    "#최신 접수중 크롤링\n",
    "driver = wb.Chrome()\n",
    "driver.get('https://www.startup-plus.kr/cms_for_portal/process/program/list.do?nowPage=1&show_no=906&check_no=96&c_relation=276&c_relation2=903&s_period=1')\n",
    "time.sleep(1)\n",
    "today = datetime.date.today()\n",
    "yesterday = today - timedelta(days=1)\n",
    "result = yesterday.strftime(\"%Y-%m-%d\")\n",
    "soup = bs(driver.page_source,'lxml')\n",
    "page_count = soup.select('#wrap > main > div > section > ul > li > a')\n",
    "try:  \n",
    "    for j in range(len(page_count)-2):\n",
    "        driver.get(f'https://www.startup-plus.kr/cms_for_portal/process/program/list.do?nowPage={j+1}&show_no=906&check_no=96&c_relation=276&c_relation2=903&s_period=1')\n",
    "        \n",
    "        for i in range(1,11):  # 한페이지 게시물\n",
    "            date = driver.find_element(By.CSS_SELECTOR, f'#wrap > main > div > section > div.content__table.content__table--list > table > tbody > tr:nth-child({i}) > td.text-align-center.list-date').text\n",
    "            if result == date[:10] :\n",
    "                \n",
    "                btn2 = driver.find_element(By.CSS_SELECTOR, f'#wrap > main > div > section > div.content__table.content__table--list > table > tbody > tr:nth-child({i}) > td.text-align-left.list-title > a')\n",
    "                btn2.click()\n",
    "                time.sleep(1)\n",
    "                other = driver.current_url[12:24]\n",
    "                if other != 'startup-plus':\n",
    "                    url_list.append(driver.current_url)\n",
    "                    driver.back()\n",
    "                    time.sleep(1)\n",
    "                else :\n",
    "                    soup = bs(driver.page_source,'lxml')\n",
    "                    field = driver.find_element(By.CSS_SELECTOR,'#wrap > main > div > section > div > div.view-con > div.view-con__table > table:nth-child(1) > tbody > tr:nth-child(1) > td').text\n",
    "                    bs_target = driver.find_element(By.CSS_SELECTOR,'#wrap > main > div > section > div > div.view-con > div.view-con__table > table:nth-child(1) > tbody > tr:nth-child(2) > td').text\n",
    "                    method = driver.find_element(By.CSS_SELECTOR,'#wrap > main > div > section > div > div.view-con > div.view-con__table > table:nth-child(1) > tbody > tr:nth-child(3) > td').text\n",
    "                    period = driver.find_element(By.CSS_SELECTOR,'#wrap > main > div > section > div > div.view-con > div.view-con__table > table:nth-child(1) > tbody > tr:nth-child(4) > td').text\n",
    "                    bs_type = driver.find_element(By.CSS_SELECTOR,'#wrap > main > div > section > div > div.view-con > div.view-con__table > table:nth-child(2) > tbody > tr:nth-child(1) > td').text\n",
    "                    age = driver.find_element(By.CSS_SELECTOR,'#wrap > main > div > section > div > div.view-con > div.view-con__table > table:nth-child(2) > tbody > tr:nth-child(2) > td').text\n",
    "                    reference = driver.find_element(By.CSS_SELECTOR,'#wrap > main > div > section > div > div.view-con > div.view-con__table > table:nth-child(2) > tbody > tr:nth-child(3) > td').text\n",
    "                    company_name = driver.find_element(By.CSS_SELECTOR,'#wrap > main > div > section > div > div.view-con > div.view-con__table > table:nth-child(2) > tbody > tr:nth-child(4) > td').text\n",
    "                    field_list.append(field)\n",
    "                    bs_target_list.append(bs_target)\n",
    "                    method_list.append(method)\n",
    "                    period_list.append(period)\n",
    "                    bs_type_list.append(bs_type)\n",
    "                    age_list.append(age)\n",
    "                    reference_list.append(reference)\n",
    "                    company_name_list.append(company_name)\n",
    "                    driver.back()\n",
    "                    time.sleep(1)\n",
    "\n",
    "\n",
    "except:\n",
    "    print(\"끝\")"
   ]
  }
 ],
 "metadata": {
  "kernelspec": {
   "display_name": "Python 3 (ipykernel)",
   "language": "python",
   "name": "python3"
  },
  "language_info": {
   "codemirror_mode": {
    "name": "ipython",
    "version": 3
   },
   "file_extension": ".py",
   "mimetype": "text/x-python",
   "name": "python",
   "nbconvert_exporter": "python",
   "pygments_lexer": "ipython3",
   "version": "3.9.12"
  },
  "toc": {
   "base_numbering": 1,
   "nav_menu": {},
   "number_sections": true,
   "sideBar": true,
   "skip_h1_title": false,
   "title_cell": "Table of Contents",
   "title_sidebar": "Contents",
   "toc_cell": false,
   "toc_position": {},
   "toc_section_display": true,
   "toc_window_display": false
  }
 },
 "nbformat": 4,
 "nbformat_minor": 5
}
