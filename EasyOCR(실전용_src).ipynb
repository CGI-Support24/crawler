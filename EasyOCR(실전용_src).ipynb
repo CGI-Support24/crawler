{
  "cells": [
    {
      "cell_type": "code",
      "source": [
        "!pip install easyocr\n",
        "\n",
        "from matplotlib import pyplot as plt\n",
        "\n",
        "from imutils.perspective import four_point_transform\n",
        "from imutils.contours import sort_contours\n",
        "import imutils\n",
        "\n",
        "from easyocr import Reader\n",
        "import cv2\n",
        "import requests\n",
        "import numpy as np\n",
        "from PIL import ImageFont, ImageDraw, Image\n",
        "\n",
        "def plt_imshow(title='image', img=None, figsize=(8 ,5)):\n",
        "    plt.figure(figsize=figsize)\n",
        " \n",
        "    if type(img) == list:\n",
        "        if type(title) == list:\n",
        "            titles = title\n",
        "        else:\n",
        "            titles = []\n",
        " \n",
        "            for i in range(len(img)):\n",
        "                titles.append(title)\n",
        " \n",
        "        for i in range(len(img)):\n",
        "            if len(img[i].shape) <= 2:\n",
        "                rgbImg = cv2.cvtColor(img[i], cv2.COLOR_GRAY2RGB)\n",
        "            else:\n",
        "                rgbImg = cv2.cvtColor(img[i], cv2.COLOR_BGR2RGB)\n",
        " \n",
        "            plt.subplot(1, len(img), i + 1), plt.imshow(rgbImg)\n",
        "            plt.title(titles[i])\n",
        "            plt.xticks([]), plt.yticks([])\n",
        " \n",
        "        plt.show()\n",
        "    else:\n",
        "        if len(img.shape) < 3:\n",
        "            rgbImg = cv2.cvtColor(img, cv2.COLOR_GRAY2RGB)\n",
        "        else:\n",
        "            rgbImg = cv2.cvtColor(img, cv2.COLOR_BGR2RGB)\n",
        " \n",
        "        plt.imshow(rgbImg)\n",
        "        plt.title(title)\n",
        "        plt.xticks([]), plt.yticks([])\n",
        "        plt.show()"
      ],
      "metadata": {
        "colab": {
          "base_uri": "https://localhost:8080/"
        },
        "id": "itb822wMAklR",
        "outputId": "977d98c4-3dd6-4c8f-a6f6-130e9c1315e9"
      },
      "execution_count": 40,
      "outputs": [
        {
          "output_type": "stream",
          "name": "stdout",
          "text": [
            "Looking in indexes: https://pypi.org/simple, https://us-python.pkg.dev/colab-wheels/public/simple/\n",
            "Requirement already satisfied: easyocr in /usr/local/lib/python3.8/dist-packages (1.6.2)\n",
            "Requirement already satisfied: PyYAML in /usr/local/lib/python3.8/dist-packages (from easyocr) (6.0)\n",
            "Requirement already satisfied: pyclipper in /usr/local/lib/python3.8/dist-packages (from easyocr) (1.3.0.post4)\n",
            "Requirement already satisfied: Shapely in /usr/local/lib/python3.8/dist-packages (from easyocr) (2.0.0)\n",
            "Requirement already satisfied: numpy in /usr/local/lib/python3.8/dist-packages (from easyocr) (1.21.6)\n",
            "Requirement already satisfied: scikit-image in /usr/local/lib/python3.8/dist-packages (from easyocr) (0.18.3)\n",
            "Requirement already satisfied: opencv-python-headless<=4.5.4.60 in /usr/local/lib/python3.8/dist-packages (from easyocr) (4.5.4.60)\n",
            "Requirement already satisfied: torch in /usr/local/lib/python3.8/dist-packages (from easyocr) (1.13.0+cu116)\n",
            "Requirement already satisfied: python-bidi in /usr/local/lib/python3.8/dist-packages (from easyocr) (0.4.2)\n",
            "Requirement already satisfied: ninja in /usr/local/lib/python3.8/dist-packages (from easyocr) (1.11.1)\n",
            "Requirement already satisfied: Pillow in /usr/local/lib/python3.8/dist-packages (from easyocr) (7.1.2)\n",
            "Requirement already satisfied: torchvision>=0.5 in /usr/local/lib/python3.8/dist-packages (from easyocr) (0.14.0+cu116)\n",
            "Requirement already satisfied: scipy in /usr/local/lib/python3.8/dist-packages (from easyocr) (1.7.3)\n",
            "Requirement already satisfied: requests in /usr/local/lib/python3.8/dist-packages (from torchvision>=0.5->easyocr) (2.23.0)\n",
            "Requirement already satisfied: typing-extensions in /usr/local/lib/python3.8/dist-packages (from torchvision>=0.5->easyocr) (4.4.0)\n",
            "Requirement already satisfied: six in /usr/local/lib/python3.8/dist-packages (from python-bidi->easyocr) (1.15.0)\n",
            "Requirement already satisfied: chardet<4,>=3.0.2 in /usr/local/lib/python3.8/dist-packages (from requests->torchvision>=0.5->easyocr) (3.0.4)\n",
            "Requirement already satisfied: idna<3,>=2.5 in /usr/local/lib/python3.8/dist-packages (from requests->torchvision>=0.5->easyocr) (2.10)\n",
            "Requirement already satisfied: urllib3!=1.25.0,!=1.25.1,<1.26,>=1.21.1 in /usr/local/lib/python3.8/dist-packages (from requests->torchvision>=0.5->easyocr) (1.24.3)\n",
            "Requirement already satisfied: certifi>=2017.4.17 in /usr/local/lib/python3.8/dist-packages (from requests->torchvision>=0.5->easyocr) (2022.12.7)\n",
            "Requirement already satisfied: matplotlib!=3.0.0,>=2.0.0 in /usr/local/lib/python3.8/dist-packages (from scikit-image->easyocr) (3.2.2)\n",
            "Requirement already satisfied: networkx>=2.0 in /usr/local/lib/python3.8/dist-packages (from scikit-image->easyocr) (2.8.8)\n",
            "Requirement already satisfied: PyWavelets>=1.1.1 in /usr/local/lib/python3.8/dist-packages (from scikit-image->easyocr) (1.4.1)\n",
            "Requirement already satisfied: tifffile>=2019.7.26 in /usr/local/lib/python3.8/dist-packages (from scikit-image->easyocr) (2022.10.10)\n",
            "Requirement already satisfied: imageio>=2.3.0 in /usr/local/lib/python3.8/dist-packages (from scikit-image->easyocr) (2.9.0)\n",
            "Requirement already satisfied: python-dateutil>=2.1 in /usr/local/lib/python3.8/dist-packages (from matplotlib!=3.0.0,>=2.0.0->scikit-image->easyocr) (2.8.2)\n",
            "Requirement already satisfied: cycler>=0.10 in /usr/local/lib/python3.8/dist-packages (from matplotlib!=3.0.0,>=2.0.0->scikit-image->easyocr) (0.11.0)\n",
            "Requirement already satisfied: kiwisolver>=1.0.1 in /usr/local/lib/python3.8/dist-packages (from matplotlib!=3.0.0,>=2.0.0->scikit-image->easyocr) (1.4.4)\n",
            "Requirement already satisfied: pyparsing!=2.0.4,!=2.1.2,!=2.1.6,>=2.0.1 in /usr/local/lib/python3.8/dist-packages (from matplotlib!=3.0.0,>=2.0.0->scikit-image->easyocr) (3.0.9)\n"
          ]
        }
      ]
    },
    {
      "cell_type": "code",
      "source": [
        "from google.colab.patches import cv2_imshow\n",
        "\n",
        "path = '/content/drive/MyDrive/Colab Notebooks/2차프로젝트 EasyOCR/12월 아이디어톤 EL_포스터.jpg'\n",
        "img_array = np.fromfile(path, np.uint8)\n",
        "org_image = cv2.imdecode(img_array, cv2.IMREAD_COLOR)\n",
        "# cv2_imshow(org_image)\n",
        "plt_imshow(\"orignal image\", org_image)\n",
        "\n",
        "langs = ['ko', 'en']\n",
        " \n",
        "print(\"[INFO] OCR'ing input image...\")\n",
        "reader = Reader(lang_list=langs, gpu=True)\n",
        "simple_results = reader.readtext(org_image, detail = 0)\n",
        "simple_results"
      ],
      "metadata": {
        "colab": {
          "base_uri": "https://localhost:8080/",
          "height": 1000
        },
        "id": "6Ar1Ai94SUqk",
        "outputId": "b4450a24-ae10-45dc-e0a5-57921caf178f"
      },
      "execution_count": 41,
      "outputs": [
        {
          "output_type": "display_data",
          "data": {
            "text/plain": [
              "<Figure size 576x360 with 1 Axes>"
            ],
            "image/png": "[encoded data removed]"
          },
          "metadata": {}
        },
        {
          "output_type": "stream",
          "name": "stderr",
          "text": [
            "WARNING:easyocr.easyocr:CUDA not available - defaulting to CPU. Note: This module is much faster with a GPU.\n"
          ]
        },
        {
          "output_type": "stream",
          "name": "stdout",
          "text": [
            "[INFO] OCR'ing input image...\n"
          ]
        },
        {
          "output_type": "execute_result",
          "data": {
            "text/plain": [
              "['2022 The 3rd',\n",
              " 'ENTREPRENEURS',\n",
              " 'LEAGUE',\n",
              " '틀 플레이올 통한 팀빌딩',\n",
              " '아이디어 대전',\n",
              " '2022.12. 17 SAT',\n",
              " '1100',\n",
              " '2O.00',\n",
              " 'EL [Entrepreneurs Leaguel이l란?',\n",
              " '틀(Role)에 기반한 스타트업 팀 빌딩 경험과 아이디어가',\n",
              " '슬루선이 되는 과정올 통해 가능성올 발견해보는 익스트림 아이디어 대전입니다:',\n",
              " '경연주제',\n",
              " '친환경 (Eco-Friendly)',\n",
              " '지속가능한 사회',\n",
              " '라이프스타일',\n",
              " '자연환경보호',\n",
              " '스타트업과 함께하는 EL',\n",
              " '(주) 어클리램',\n",
              " 'code',\n",
              " 'In',\n",
              " '(주) 리더스오보그런소사이어티',\n",
              " '(주) 아트와',\n",
              " 'uglee lab',\n",
              " '생활쓰레기 문전수거 서비스',\n",
              " '8r도',\n",
              " \"'square\",\n",
              " '친환경 캠페인 통합 운영 시스템',\n",
              " 'ARTW',\n",
              " '친환경 친안전 수류양용로봇 플렉품',\n",
              " '일정',\n",
              " '모집 대상',\n",
              " '지원방법',\n",
              " '2022.12.17 (토) 11:00 ~ 20.00',\n",
              " '창업에 관심있는 분이라면 누구나 참여 가능',\n",
              " '시작점 흉페이지',\n",
              " '오른 프로그램 > EL 신청서 작성',\n",
              " '대전 테크노파크 10층 (중구 중앙로 119)',\n",
              " '새롭고 신선한 아이디어름 가진 예비창업자',\n",
              " '팀 빌딩올 통한 창업활동 경험올 하고 싶은 사람',\n",
              " '문의처',\n",
              " '같은 공감대 가지려 새로운 네트위크 형성 원하는 사람',\n",
              " '(주)시작점',\n",
              " 'contact@startingpoint.cokr',\n",
              " '모집기간 및 과정 * 자세한 사함은 흉-어지플확인해주세요',\n",
              " '시상내역',\n",
              " '상금 총 900만원',\n",
              " '모집 및 접수',\n",
              " '11.29 (화) - 12.13 (화)',\n",
              " '사전심사',\n",
              " '12.13 (화) - 12.14 (수)',\n",
              " '최종 참가자 발표',\n",
              " '12.15 (목)',\n",
              " '챔런저 1등',\n",
              " '마스터 2등',\n",
              " '다이아 3등',\n",
              " '상금 350만원 &',\n",
              " 'E L (오프라인)',\n",
              " '12.17 (토)',\n",
              " '맵버십 이용권',\n",
              " '상금 250만원',\n",
              " '각 상금 150만원',\n",
              " 'SV',\n",
              " '철',\n",
              " 'bluepoint',\n",
              " 'GROUND']"
            ]
          },
          "metadata": {},
          "execution_count": 41
        }
      ]
    },
    {
      "cell_type": "code",
      "source": [
        "!pip install git+https://github.com/ssut/py-hanspell.git"
      ],
      "metadata": {
        "colab": {
          "base_uri": "https://localhost:8080/"
        },
        "id": "btvB-IFcWCwN",
        "outputId": "b46ac536-7f95-44ad-a8ef-d58c76bf3616"
      },
      "execution_count": 3,
      "outputs": [
        {
          "output_type": "stream",
          "name": "stdout",
          "text": [
            "Looking in indexes: https://pypi.org/simple, https://us-python.pkg.dev/colab-wheels/public/simple/\n",
            "Collecting git+https://github.com/ssut/py-hanspell.git\n",
            "  Cloning https://github.com/ssut/py-hanspell.git to /tmp/pip-req-build-h2qbkl20\n",
            "  Running command git clone -q https://github.com/ssut/py-hanspell.git /tmp/pip-req-build-h2qbkl20\n",
            "Requirement already satisfied: requests in /usr/local/lib/python3.8/dist-packages (from py-hanspell==1.1) (2.23.0)\n",
            "Requirement already satisfied: chardet<4,>=3.0.2 in /usr/local/lib/python3.8/dist-packages (from requests->py-hanspell==1.1) (3.0.4)\n",
            "Requirement already satisfied: idna<3,>=2.5 in /usr/local/lib/python3.8/dist-packages (from requests->py-hanspell==1.1) (2.10)\n",
            "Requirement already satisfied: certifi>=2017.4.17 in /usr/local/lib/python3.8/dist-packages (from requests->py-hanspell==1.1) (2022.12.7)\n",
            "Requirement already satisfied: urllib3!=1.25.0,!=1.25.1,<1.26,>=1.21.1 in /usr/local/lib/python3.8/dist-packages (from requests->py-hanspell==1.1) (1.24.3)\n",
            "Building wheels for collected packages: py-hanspell\n",
            "  Building wheel for py-hanspell (setup.py) ... \u001b[?25l\u001b[?25hdone\n",
            "  Created wheel for py-hanspell: filename=py_hanspell-1.1-py3-none-any.whl size=4870 sha256=07a1779900a60f2db3670e3660e9b19e5de2a8d307b429a3e234196d8f852467\n",
            "  Stored in directory: /tmp/pip-ephem-wheel-cache-fn63f4u0/wheels/3f/a5/73/e4d2806ae141d274fdddaabf8c0ed79be9357d36bfdc99e4b4\n",
            "Successfully built py-hanspell\n",
            "Installing collected packages: py-hanspell\n",
            "Successfully installed py-hanspell-1.1\n"
          ]
        }
      ]
    },
    {
      "cell_type": "code",
      "source": [
        "from hanspell import spell_checker\n",
        "import string\n",
        "\n",
        "# 특수문자 제거\n",
        "simple_result = []\n",
        "for i in range(len(simple_results)) :\n",
        "  simple_result.append(simple_results[i].translate(str.maketrans('', '', string.punctuation)))\n",
        "\n",
        "spelled_sent = spell_checker.check(simple_result)\n",
        "\n",
        "checked_sent = []\n",
        "for i in range (len(simple_results)) :\n",
        " checked_sent.append(spelled_sent[i].checked)\n",
        "\n",
        "print(checked_sent)"
      ],
      "metadata": {
        "colab": {
          "base_uri": "https://localhost:8080/"
        },
        "id": "IHgntENLWGQt",
        "outputId": "fa122b35-54fa-40c1-cca6-83d3fc9779b0"
      },
      "execution_count": 4,
      "outputs": [
        {
          "output_type": "stream",
          "name": "stdout",
          "text": [
            "['2022 The 3rd', 'ENTREPRENEURS', 'LEAGUE', '틀 플레이 올 통한 팀 빌딩', '아이디어 대전', '202212 17 SAT', '1100', '2O00', 'EL Entrepreneurs Leaguel이 l란', '틀 Role에 기반한 스타트업 팀 빌딩 경험과 아이디어가', '슬루 선임 되는 과정 올 통해 가능성 올 발견해보는 익스트림 아이디어 대전입니다', '경연 주제', '친환경 EcoFriendly', '지속 가능한 사회', '라이프스타일', '자연환경보호', '스타트 업과 함께하는 EL', '주 어클리램', 'code', 'In', '주 리더스 오보 그런 소사이어티', '주 아트와', 'uglee lab', '생활쓰레기 문전수거 서비스', '8r도', 'square', '친환경 캠페인 통합 운영 시스템', 'ARTW', '친환경 친안전 수류 양용 로봇 플렉품', '일정', '모집 대상', '지원방법', '20221217 토 1100  2000', '창업에 관심 있는 분이라면 누구나 참여 가능', '시작점 흉페이지', '오른 프로그램  EL 신청서 작성', '대전 테크노파크 10층 중구 중앙로 119', '새롭고 신선한 아이디 어름 가진 예비창업자', '팀 빌딩 올 통한 창업활동 경험 올 하고 싶은 사람', '문의처', '같은 공감대 가지려 새로운 네트워크 형성 원하는 사람', '준 시작점', 'contactstartingpointcokr', '모집 기간 및 과정  자세한 사함은 흉어 지플 확인해주세요', '시상내역', '상금 총 900만 원', '모집 및 접수', '1129 화  1213 화', '사전심사', '1213 화  1214 수', '최종 참가자 발표', '1215 목', '챔런저 1등', '마스터 2등', '다이아 3등', '상금 350만 원', 'E L 오프라인', '1217 토', '맵 버십 이용권', '상금 250만 원', '각 상금 150만 원', 'SV', '철', 'bluepoint', 'GROUND']\n"
          ]
        }
      ]
    },
    {
      "cell_type": "code",
      "source": [],
      "metadata": {
        "id": "6KBJzOJvwL_4"
      },
      "execution_count": null,
      "outputs": []
    },
    {
      "cell_type": "code",
      "source": [],
      "metadata": {
        "id": "O0jqO_kowL9R"
      },
      "execution_count": null,
      "outputs": []
    },
    {
      "cell_type": "code",
      "source": [
        "# PDF 읽기"
      ],
      "metadata": {
        "id": "jqN0QH02wL6h"
      },
      "execution_count": null,
      "outputs": []
    },
    {
      "cell_type": "code",
      "source": [
        "pip install aspose-words"
      ],
      "metadata": {
        "colab": {
          "base_uri": "https://localhost:8080/"
        },
        "id": "LSDxl8uHwLxB",
        "outputId": "38247044-db70-42f8-9106-daaa18da65fe"
      },
      "execution_count": 14,
      "outputs": [
        {
          "output_type": "stream",
          "name": "stdout",
          "text": [
            "Looking in indexes: https://pypi.org/simple, https://us-python.pkg.dev/colab-wheels/public/simple/\n",
            "Collecting aspose-words\n",
            "  Downloading aspose_words-22.12.0-py3-none-manylinux1_x86_64.whl (68.8 MB)\n",
            "\u001b[K     |████████████████████████████████| 68.8 MB 30 kB/s \n",
            "\u001b[?25hInstalling collected packages: aspose-words\n",
            "Successfully installed aspose-words-22.12.0\n"
          ]
        }
      ]
    },
    {
      "cell_type": "code",
      "source": [
        "import aspose.words as aw\n",
        "\n",
        "# PDF 파일 로드\n",
        "doc = aw.Document(\"/content/drive/MyDrive/Colab Notebooks/2차프로젝트 EasyOCR/K-Startup[공고문] 2023년 예비창업‧초기창업‧창업도약 패키지 신규 주관기관 모집공고.pdf\")\n",
        "\n",
        "# PDF를 TXT로 저장\n",
        "doc.save(\"pdf-to-text.txt\")"
      ],
      "metadata": {
        "colab": {
          "base_uri": "https://localhost:8080/"
        },
        "id": "bfCm4R0hhXzp",
        "outputId": "aef142c1-c4f5-49a6-ca69-e9a0b8227fea"
      },
      "execution_count": 16,
      "outputs": [
        {
          "output_type": "execute_result",
          "data": {
            "text/plain": [
              "<aspose.words.saving.SaveOutputParameters object at 0x7f558a3d31f0>"
            ]
          },
          "metadata": {},
          "execution_count": 16
        }
      ]
    },
    {
      "cell_type": "code",
      "source": [
        "file = open(\"./pdf-to-text.txt\", \"r\")\n",
        "strings = file.readlines()\n",
        "print(strings)\n",
        "file.close()"
      ],
      "metadata": {
        "colab": {
          "base_uri": "https://localhost:8080/"
        },
        "id": "mL52LDQcyADh",
        "outputId": "4a631353-715a-463b-cee1-eb30bc90cfc2"
      },
      "execution_count": 18,
      "outputs": [
        {
          "output_type": "stream",
          "name": "stdout",
          "text": [
            "['\\n', 'Evaluation Only. Created with Aspose.Words. Copyright 2003-2022 Aspose Pty Ltd.\\n', '중소벤처기업부  공고  제 2022 - 590호\\n', '2023년  예비창업․초기창업․창업도약  패키지  사업\\n', '신규  주관기관  모집공고\\n', '성장단계별 (예비 ‧ 초기 ‧ 도약기 ) 창업기업  발굴  및  육성 을  위해  우수한 창업지원  역량 을  갖춘  예비창업 ‧ 초기창업 ‧ 창업도약  패키지  사업의 주관기관 을  다음과  같이  모집  공고합니다 .\\n', '2022년  12월  19일 중소벤처기업부장관\\n', '※ 본  모집공고는  (예비)창업기업을  지원할  주관기관을  모집하는  공고문이며,   ’23년  예산안  확정  결과에  따라  선정규모  및  지원예산 은  변동 될  수  있음\\n', '1\\t 사업  개요\\n', ' \\n', '사업명\\n', '사업  개요\\n', '주관기관\\n', '선정  규모\\n', '운영비  지원\\n', '예비창업 패키지\\n', '•  기술창업  아이디어를  보유한  예비창업자의 성공창업을  위해  사업화자금,  비즈니스모델 고도화  및  시제품  제작  등을  지원\\n', '27개  내외\\n', '정부지원금 3.8억원  내외\\n', '초기창업 패키지\\n', '• 창업  3년  이내  초기창업기업의  시장안착을 위해  사업화자금,  실증  및  판로개척,  초기 투자유치  등을  지원\\n', '20개  내외\\n', '정부지원금 4억원  내외\\n', '창업도약 패키지\\n', '•  창업  3년  초과  7년  이내  도약기창업기업의 성장을  위해  사업화자금,  글로벌시장  진출 및  후속투자유치, 대기업  협업  등을  지원\\n', '13개  내외\\n', '정부지원금 4억원  내외\\n', '* 선정규모와  운영비는  예산안  확정  및  선정평가  결과  등에  따라  변동될  수  있음\\n', '  ** 사업별  주관기관  신청요건,  권역별  선정  규모  등  세부  내용은  ‘모집  세부계획’ 참조\\n', '2\\t 신청  자격\\n', '□ 신청  자격\\n', '◦ 창업기업  지원역량을  보유한  대학 , 공공기관 , 민간기관 (단체 ) 등\\n', '- 창업지원  역량을  강화하기  위해  사업을  신청하는  기관은  대학 , 민간 등 타 기관과 협력하여 사업참여 가능\\n', '* ‘신청기관 - 협력기관’  구조로  사업참여는  가능하나  협약은  전담기관과  신청기관 (1개  기관)  간  진행하며  총  사업비  관리‧집행  모두  신청기관에서  일괄  수행\\n', '◦ 신청기관은  예비창업패키지 , 초기창업패키지 , 창업도약패키지  사업 중에서  최대  2개  사업까지  신청  가능\\n', '< 주관기관  신청  자격  구분  >\\n', ' \\n', '구분\\n', '신청  자격\\n', '대학\\n', '• 『고등교육법』 제2조(학교의  종류)의  각  호에  해당되는  대학\\n', '*  2023년  정부  재정지원  가능  대학에  한함 (교육부, ’22.6.3.  발표)\\n', '   ** 본교  및  분교 (캠퍼스  포함), 기술지주는  동일  사업에  함께  신청  불가\\n', '• 『특정연구기관  육성법  시행령』 제3조  1, 2, 3, 3의2호에  해당하는  기관\\n', '공공 기관\\n', '• 『공공기관운영법』 제4조(공공기관)에  해당하는  법인 ·단체  또는  기관\\n', '• 『지방공기업법』 제2조(적용범위)에  해당하는  법인·단체  또는  기관\\n', '• 『지방출자‧출연법』 제2조(적용대상  등)에  해당하는  법인·단체  또는  기관\\n', '민간 기관 (단체)\\n', '• 『산업교육진흥  및  산학연협력촉진에  관한  법률』에  따른  산학연협력기술지주회사\\n', '• 『벤처기업육성에  관한  특별조치법』에  따른  신기술창업전문회사\\n', '• 『벤처투자 촉진에 관한 법률』에  따른 중소기업창업투자회사 및  창업기획자(액셀러레이터)\\n', '• 상기  기준에  준하는  일반기업,  주무관청의  허가를  받은  법인‧협회‧단체\\n', '-  단,  일반기업의  경우  기업신용평가등급*이  “B“ 이상이어야  함\\n', '* 『신용정보의  이용  및  보호에  관한  법률』 제2조제4호의  업무를  영위하는  신용 정보업자가  동  사업  공고일로부터  마감일  전까지  기간  내에  평가한  유효 기간  내  회사채 (또는  기업어음)에  대한  신용평가등급  또는  기업신용평가등급 (위의  신용정보업자가  신용평가등급,  등급  평가일  및  등급  유효기간  등을 명시하여  작성한  신용평가등급확인서)  기준\\n', '□ 신청  제외  대상\\n', '◦ 신청기관 (또는  대표자 )이  다음  각  호의  어느  하나에  해당하는  경우 지원사업 신청을 제한\\n', '• 『국고보조금  통합관리지침』 등  관계  법령·지침에  따른  결격사유에  해당할  경우\\n', '• 채무불이행으로  규제  중이거나  부도,  화의,  법정관리  등  정상적으로  금융  거래가 곤란한  경우\\n', '* 단,  신청·접수  마감일 (‘23.1.9)까지  채무변제  완료  후  증빙이  가능한  자,  회생인가를  받은 기업,  중소벤처기업진흥공단으로부터  재창업자금을  지원받은  기업  등  정부·공공기관 으로부터  재기지원  필요성을  인정받은  기업은  신청  가능\\n', '• 국세  또는  지방세  체납으로  규제  중인  경우\\n', '④  중소벤처기업부  창업지원사업에  참여  제한으로  제재  중인  경우\\n', '⑤  고용노동부가  공개하는  체불사업주  명단에  포함된  경우\\n', '⑥  최근  3년간  중소벤처기업부  창업지원사업  ’협약  해약‘ 판정을  받은  경우\\n', '⑦  기타  중소벤처기업부  장관이  참여를  제한할  정당한  사유가  있다고  인정하는  경우\\n', '3\\t 신청  및  접수\\n', '□ 신청  기간 : 2022년  12월  19일 (월 ) ~ 2023년  1월  9일 (월 ) 16:00까지\\n', '□ 신청  방법  및  제출서류\\n', '◦ (신청  방법 ) K-스타트업  누리집 (www.k-startup.go.kr) → 창업사업 통합정보관리시스템 로그인 후 신청\\n', '①회원가입 (신청기관  대표자  명의)*  →  ②K-스타트업  로그인  →  ③사업신청  클릭  → ④“2023년  예비창업‧초기창업‧창업도약  패키지  주관기관  모집공고“  클릭**  →  ⑤개인 정보  수집‧이용‧제공  동의  →  ⑥기본정보 (일반현황  및  인력정보)  입력  → ⑦사업계획서 등  제출서류  업로드 (용량제한  300MB  유의)  → ⑧제출  → ⑨신청내역조회 (‘마이페이지 -사업신청현황’ 확인)\\n', '* 회원가입은  신청기관의  대표자  개인  명의  진행\\n', '  ** 예비창업‧초기창업‧창업도약  패키지  사업에  대하여  별도로  신청‧접수  필요\\n', '◦ (제출서류 ) 제출공문 , 사업계획서 , 증빙서류 , 전담조직  개인정보 수집 ‧ 이용 ‧ 제공  동의서  각  1부\\n', '* 신청  마감일  이후에는  제출한  자료의  수정‧보완‧교체  및  추가  제출은  절대  불가\\n', '\\n', 'Created with an evaluation copy of Aspose.Words. To discover the full versions of our APIs please visit: https://products.aspose.com/words/\\n', '-  4  -\\n', '\\n', '4\\t 평가  및  선정\\n', '□ 평가  방법  및  절차\\n', '◦ 2단계  평가 (① 서류 → ② 발표 ) 실시 , 서류평가  통과기관에  대해  서 류평가  점수  40%, 발표평가  점수  60%를  합산하여  순위  결정\\n', '- 요건검토 : 전담  조직  구성 , 재원 (대응자금 , 투자금 ), 공간 (사무 실 ) 등 주관기관 기본 신청요건 및 자격 충족 여부 등 검토\\n', '- 서류평가 : 사업계획서를  평가하여  선정  규모의  1.5배수  내외를 고득점순으로  선발 , 발표평가  대상기관으로  선정 \\n', '- 발표평가 : 창업기업  지원을  위한  프로그램  운영  및  성과관리 , 기관의  보유  자원 , 추진  의지  등을  종합적으로  평가\\n', '* 평가시간  : 30분  내외 (발표  20분,  질의응답  10분  이내) \\n', '    ** 코로나19  등  상황을  감안하여  온라인  화상  평가  등으로  운영될  수  있으며,  의사\\n', '결정이  가능한  센터장급  또는  본부장급  이상인  자의  발표를  원칙으로  함\\n', '- 단계별 (서류  및  발표 ) 총점  60점  이하  득점  기관은  과락  처리\\n', ' \\n', '요건검토\\n', '‘23. 1월\\n', '서류평가\\n', '‘23. 1월\\n', '발표평가\\n', '‘23. 2월  초\\n', '결과  통보\\n', '‘23. 2월  중\\n', '  \\n', '* 상기  일정은  변경될  수  있으며,  신청기관별  발표평가  세부  일정은  별도  안내\\n', '  ** 이의신청은  선정평가  결과  통보일로부터  7일  이내,  1회에  한하여  신청  가능\\n', '□ 최종  선정\\n', '◦ 서류평가와  발표평가  결과를  종합하여  최종  선정  후보기관을  결정 하고 , 심의위원회를  통해  주관기관  최종  선정  확정\\n', '* 선정평가  결과  등에  따라  주관기관  선정  규모보다  적게  선정할  수  있음\\n', '◦ 평가위원회가  현장  확인이  필요하다고  판단하는  신청기관에  대해 서는 전담기관이 별도 현장실사를 실시할 수 있음\\n', '5\\t 유의  사항\\n', '◦ 동  공고문에  기재된  사항에  대한  미숙지로  인해  발생하는  불이익 및 그에 따른 책임은 신청기관에 있음\\n', '◦ 최종  선정된  주관기관은  창업사업화지원사업  통합관리지침 , 사업별 세부관리기준 , 협약서  등에  기재된  사항을  준수하여야  함\\n', '◦ 사업  신청은  신청기관의  대표자 * 명의로만  신청이  가능\\n', '* 신청기관의  장 (협력기관의  장  또는  전담조직의  장  명의로  신청  불가)\\n', '◦ 사업계획서  등  온라인  제출  및  접수는  신청  기간 (’23.1.9(월 ), 16:00) 내  필히  완료되어야  하며 , 마감  이후  추가  제출은  불가함\\n', '* 제출서류  등에  누락‧착오가  있더라도  신청마감일  이후  수정‧보완‧교체  등  일체  불가\\n', '◦ 선정  이후  협약일  이전까지  평가과정에서  확인되지  않은  허위사실 등이 발견된 경우 선정을 취소하고 협약하지 아니할 수 있음\\n', '◦ 대응자금  확보는  협약  시작일  이후  6개월  이내 , 전담조직  설치  등 그  외  신청요건은  3개월  이내  계획대로  이행하여야  함\\n', '* 의무사항  이행내용을  반영한  수정사업계획서를  협약체결  시  제출\\n', '    ** 기한  내  신청요건  미충족  시,  선정  취소  또는  협약  중도  해약할  수  있음\\n', '◦ 사업  운영  기간  도중  중대한  협약위반  사항  또는  성과  부진  등의 사유  발생 , 주관기관  신청  자격에  위반되는  사항  발생  시  관련 규정에 의거 협약을 중도 해약할 수 있음\\n', '◦ 신청기관은  타  기관을  협력기관으로  구성하여  사업에  참여할  수 있으나 , 협약은  전담기관 (창업진흥원 )과  신청기관  간  진행\\n', '* 모든  사업비는  신청기관에서  일괄  관리‧집행 (협력기관에  사업비  재교부  불가)\\n', '    ** 협력기관과  참여기관은  단독으로  주관기관  기능을  수행하거나  “OO패키지  사업 \\n', '주관기관”이라는  명칭을  사용할  수  없음\\n', '◦ 선정된  기관은  전담기관이  지정한  은행의  계좌를  필수로  개설하고 , 창업사업통합정보관리시스템 (PMS)을  통한  사업비  지출 (회계처리 )이 가능하여야 함\\n', '* 창업사업통합관리시스템  사용이  불가능한  경우,  사업수행  불가  및  협약  해지\\n', '◦ 사업  선정  이후  협약  기간  내에  대응자금  및  투자금  미집행  시 , 총 사업비를 기준으로 미집행 비중에 따라 정부지원금 환수 또는 주관기관 성과평가에 반영될 수 있음\\n', '◦ 사업  선정  후, 정당한  사유  없이  사업수행을  포기하는  경우  정부 지원금 환수 및 향후 동 사업참여가 제한될 수 있음\\n', '◦ 중소벤처기업부  창업지원사업  참여  제한  중인  기관은  신청  불가\\n', '6\\t 기타  참고사항\\n', '□ 문의처\\n', '◦ (시스템  문의 ) 중소기업통합콜센터  국번없이  1357\\n', '◦ (사업  문의 ) 사업부서  담당자\\n', ' \\n', '사업명\\n', '담당  기관 (부서)\\n', '문의처\\n', '예비창업패키지\\n', '창업진흥원 (예비초기창업실)\\n', '☎  044-410-1801,  1804,  1805\\n', '초기창업패키지\\n', '☎ 044-410-1831,  1845,  1838\\n', '창업도약패키지\\n', '창업진흥원 (창업도약실\\n', ')\\n', '☎  044-410-1861,  1862,  1863\\n', '※ K-스타트업  누리집을  통해  온라인  문의  가능 (Quick Menu - 상담하기 )\\n', '\\n', 'Created with an evaluation copy of Aspose.Words. To discover the full versions of our APIs please visit: https://products.aspose.com/words/\\n', '-  8  -\\n', '\\n', '예비창업 ‧초기창업\\n', '신규  주관기관 \\n', '\\x0e‧창업도약  패키지별\\n', '모집  세부계획\\n', '\\n', 'Created with an evaluation copy of Aspose.Words. To discover the full versions of our APIs please visit: https://products.aspose.com/words/\\n', '-    -\\n', '□ 주관기관  의무  및  역할\\n', '• 예비창업자  사업화  지원\\n', '◦ 예비창업자  선정평가 , 사업화  자금  집행관리 ․ 정산 , 점검 , 성과평가 ,\\n', '1\\t 예비창업패키지\\n', '□ 사업  목적\\n', '◦ 혁신적인  기술창업  아이디어를  보유한  예비창업자의  성공  창업 및 사업화 지원을 통한 양질의 일자리 창출\\n', '□ 선정  규모 : 총  27개  내외\\n', '< 권역별  주관기관  선정  규모(안) >              (단위 :개)\\n', ' \\n', '권역\\n', '일반분야\\n', '특화분야\\n', '합계\\n', '서울권\\n', '경인권\\n', '강원‧충청권\\n', '호남‧제주권\\n', '대경권\\n', '동남권\\n', '여성\\n', '소셜벤처\\n', '규모\\n', '5\\n', '5\\n', '5\\n', '4\\n', '3\\n', '3\\n', '1\\n', '1\\n', '27\\n', '* 선정평가  결과  및  권역(지역)  안배  등을  종합적으로  고려하여  최종  선정  예정\\n', '  ** 일정  수준을  충족하지  못하는  경우,  권역별  선정  규모보다  적게  선정할  수  있음 \\n', '□ 운영  기간 : ’23년 ~ ’26년 (4년간 , 2년 +2년 )\\n', '* 연  단위  협약으로  진행하며,  성과평가  등을  통해  사업수행  성과  등이  미흡하다고 판단되는  경우  중도에  지원을  중단할  수  있음 (연  단위  협약  기간  15개월  내외)\\n', '□ 신청요건\\n', '• 예비창업자  육성을  위한  재원  확보\\n', 'This document was truncated here because it was created in the Evaluation Mode.\\n', 'Created with an evaluation copy of Aspose.Words. To discover the full versions of our APIs please visit: https://products.aspose.com/words/\\n', '-  10  -\\n']\n"
          ]
        }
      ]
    },
    {
      "cell_type": "code",
      "source": [],
      "metadata": {
        "id": "f2PIoc22yWg-"
      },
      "execution_count": null,
      "outputs": []
    },
    {
      "cell_type": "code",
      "source": [],
      "metadata": {
        "id": "jyxQNFdrBYWl"
      },
      "execution_count": null,
      "outputs": []
    },
    {
      "cell_type": "code",
      "source": [
        "# 한글파일 읽기"
      ],
      "metadata": {
        "id": "OwS8ujuRyWeU"
      },
      "execution_count": null,
      "outputs": []
    },
    {
      "cell_type": "code",
      "source": [
        "!pip install --user --pre pyhwp"
      ],
      "metadata": {
        "colab": {
          "base_uri": "https://localhost:8080/"
        },
        "id": "kAQePtL37O4t",
        "outputId": "19628928-34eb-48ec-ad7a-ef0a7270ee17"
      },
      "execution_count": 30,
      "outputs": [
        {
          "output_type": "stream",
          "name": "stdout",
          "text": [
            "Looking in indexes: https://pypi.org/simple, https://us-python.pkg.dev/colab-wheels/public/simple/\n",
            "Requirement already satisfied: pyhwp in /usr/local/lib/python3.8/dist-packages (0.1b15)\n",
            "Requirement already satisfied: lxml in /usr/local/lib/python3.8/dist-packages (from pyhwp) (4.9.2)\n",
            "Requirement already satisfied: olefile>=0.43 in /usr/local/lib/python3.8/dist-packages (from pyhwp) (0.46)\n",
            "Requirement already satisfied: cryptography in /usr/local/lib/python3.8/dist-packages (from pyhwp) (38.0.4)\n",
            "Requirement already satisfied: cffi>=1.12 in /usr/local/lib/python3.8/dist-packages (from cryptography->pyhwp) (1.15.1)\n",
            "Requirement already satisfied: pycparser in /usr/local/lib/python3.8/dist-packages (from cffi>=1.12->cryptography->pyhwp) (2.21)\n"
          ]
        }
      ]
    },
    {
      "cell_type": "code",
      "source": [
        "!pip install olefile"
      ],
      "metadata": {
        "colab": {
          "base_uri": "https://localhost:8080/"
        },
        "id": "ZMpgVbvbz62S",
        "outputId": "57d39a39-e447-413e-8024-9147d86e14a2"
      },
      "execution_count": 19,
      "outputs": [
        {
          "output_type": "stream",
          "name": "stdout",
          "text": [
            "Looking in indexes: https://pypi.org/simple, https://us-python.pkg.dev/colab-wheels/public/simple/\n",
            "Collecting olefile\n",
            "  Downloading olefile-0.46.zip (112 kB)\n",
            "\u001b[K     |████████████████████████████████| 112 kB 4.8 MB/s \n",
            "\u001b[?25hBuilding wheels for collected packages: olefile\n",
            "  Building wheel for olefile (setup.py) ... \u001b[?25l\u001b[?25hdone\n",
            "  Created wheel for olefile: filename=olefile-0.46-py2.py3-none-any.whl size=35430 sha256=f63444d4c11a5d0b12c425dc9c495b03ef3e9fb27338394d6670fafe5f12a030\n",
            "  Stored in directory: /root/.cache/pip/wheels/0b/d8/16/1e2d32ad7455728b8af9efdb9d2a0c3d03cd8f2e4be0191b8c\n",
            "Successfully built olefile\n",
            "Installing collected packages: olefile\n",
            "Successfully installed olefile-0.46\n"
          ]
        }
      ]
    },
    {
      "cell_type": "code",
      "source": [
        "import olefile\n",
        "\n",
        "f = olefile.OleFileIO('/content/drive/MyDrive/Colab Notebooks/2차프로젝트 EasyOCR/K-Startup1. 제1회 IPO 기술특례상장 세미나 지원사업 공고문.hwp')\n",
        "encoded_text = f.openstream('PrvText').read()\n",
        "decoded_text = encoded_text.decode('UTF-16')\n",
        "\n",
        "print(decoded_text)"
      ],
      "metadata": {
        "colab": {
          "base_uri": "https://localhost:8080/"
        },
        "id": "gm0QMgSnyWbs",
        "outputId": "f171e568-6c67-4c37-fb73-9a9709f05440"
      },
      "execution_count": 32,
      "outputs": [
        {
          "output_type": "stream",
          "name": "stdout",
          "text": [
            "      <제1회 IPO 기술특례상장 세미나 지원사업>\r\n",
            "\r\n",
            "기술력과 성장성이 인정되는 중소기업에게 체계적인 상장 전략을 제공하기 위한 제 1회 IPO 기술특례상장 세미나 지원사업을 다음과 같이 공고하오니, 사업에 참여하고자 하는 스타트업 및 중소기업은 안내에 따라 신청하시기 바랍니다.\r\n",
            "\r\n",
            "2022년 12월 19일\r\n",
            "한국중소기업발전협회장\r\n",
            "\r\n",
            "< 1. 사업개요><>\r\n",
            "\r\n",
            "가. 추진 배경\r\n",
            "\r\n",
            "◦ IPO 상장 전략 중 기술특례상장은 성장가능성이 높은 핵심기술 보유 기업의 기술성을 평가하여, 코스닥 시장에 진입할 수 있는 기회를 부여하는 제도\r\n",
            "\r\n",
            "◦ 기술특례상장 기업 수는 2010년 5개에서 2021년 25개로 매해 증가 추세에 있으며, 이들의 장기 주가 성과는 일반상장보다 좋은 성과를 보임.\r\n",
            "\r\n",
            "◦ 기술특례상장을 위해서는 전문평가기관을 통해 기술성 등급을 확보해야 하며, 높은 등급으로 평가받기 위해선 기술의 완성도와 경쟁 우위도, 기술 관련 인력 구성을 체계적으로 증명해야 함.\r\n",
            "\r\n",
            "◦ 또한, 기술의 상용화, 관련 시장규모, 시장 경쟁력 등 시장성을 증명할 수 있는 근거자료를 마련해야 하며, 향후 기술 사업화 실현 가능성에 대한 로드맵을 제시할 수 있어야 함.\r\n",
            "\r\n",
            "◦ 기술특례상장에 성공하기 위해서는 2~3개년 동안 체계적으로 시장성과 기술성이 반영된 지식재산권을 확보해야 함. 이는 지식재산권 로드맵을 구축함으로써 전략적으로 실행 가능\r\n",
            "\r\n",
            "<『특허 포트폴리오 로드맵?』>\r\n",
            "<◾ 혁신 기술 보유 기업의 기술 내용을 구체화하고, 관련 기술에 대한 주요 4개국 국가 특허 분석 ◾ 전 세계 국가별 영향력 있는 특허를 선별하여 해당 특허들의 세부 내용을 분석하고, 권한 범위를 설정 ◾ 혁신 기술을 보유한 국내 기업의 지식재산권 확보 로드맵을 구상하여, 시간과 비용의 낭비 없이 기술 확보 및 증명 절차를 진행하기 위한 사전 준비>\r\n",
            "\r\n",
            "나. 목    적\r\n",
            "\r\n",
            " ◦ 혁신 기술을 보유한 중소기업이 기술성과 시장성을 체계적이고 효율적으로 증명할 수 있도록 전략을 구축하여 기술특례상장에 도전할 수 있도록 지원\n"
          ]
        }
      ]
    },
    {
      "cell_type": "code",
      "source": [
        "# 한글 전체 파일 못 가져오는거 같아서 다른 코드로 시도하겠음 >> 코드가 안 먹힘"
      ],
      "metadata": {
        "id": "WRdqdzmd-Eat"
      },
      "execution_count": null,
      "outputs": []
    },
    {
      "cell_type": "code",
      "source": [
        "# !pip install ole-py"
      ],
      "metadata": {
        "colab": {
          "base_uri": "https://localhost:8080/"
        },
        "id": "EPffNLTi-K5u",
        "outputId": "b121ab7a-32be-47d6-d390-63a28c023827"
      },
      "execution_count": 36,
      "outputs": [
        {
          "output_type": "stream",
          "name": "stdout",
          "text": [
            "Looking in indexes: https://pypi.org/simple, https://us-python.pkg.dev/colab-wheels/public/simple/\n",
            "Requirement already satisfied: ole-py in /usr/local/lib/python3.8/dist-packages (1.1.2)\n"
          ]
        }
      ]
    },
    {
      "cell_type": "code",
      "source": [
        "# import os\n",
        "# import pandas as pd\n",
        "\n",
        "# import ole"
      ],
      "metadata": {
        "id": "t0v-UTlf-EYN"
      },
      "execution_count": 38,
      "outputs": []
    },
    {
      "cell_type": "code",
      "source": [
        "# dir_path = '/content/drive/MyDrive/Colab Notebooks/2차프로젝트 EasyOCR/'\n",
        "# hwp_name ='K-Startup1. 제1회 IPO 기술특례상장 세미나 지원사업 공고문.hwp'\n",
        "# hwp_path = os.path.join(dir_path, hwp_name)\n",
        "\n",
        "# f = ole.OleFile(hwp_path)\n",
        "\n",
        "# content = f.get_stream('PrvText').decode('utf-16le')\n",
        "# print(content)"
      ],
      "metadata": {
        "colab": {
          "base_uri": "https://localhost:8080/",
          "height": 248
        },
        "id": "51RYozjG-EWG",
        "outputId": "6a09286d-c961-4998-bcb0-7cc9412f70a4"
      },
      "execution_count": 39,
      "outputs": [
        {
          "output_type": "error",
          "ename": "AttributeError",
          "evalue": "ignored",
          "traceback": [
            "\u001b[0;31m---------------------------------------------------------------------------\u001b[0m",
            "\u001b[0;31mAttributeError\u001b[0m                            Traceback (most recent call last)",
            "\u001b[0;32m<ipython-input-39-fd57dc24b3d2>\u001b[0m in \u001b[0;36m<module>\u001b[0;34m\u001b[0m\n\u001b[1;32m      3\u001b[0m \u001b[0mhwp_path\u001b[0m \u001b[0;34m=\u001b[0m \u001b[0mos\u001b[0m\u001b[0;34m.\u001b[0m\u001b[0mpath\u001b[0m\u001b[0;34m.\u001b[0m\u001b[0mjoin\u001b[0m\u001b[0;34m(\u001b[0m\u001b[0mdir_path\u001b[0m\u001b[0;34m,\u001b[0m \u001b[0mhwp_name\u001b[0m\u001b[0;34m)\u001b[0m\u001b[0;34m\u001b[0m\u001b[0;34m\u001b[0m\u001b[0m\n\u001b[1;32m      4\u001b[0m \u001b[0;34m\u001b[0m\u001b[0m\n\u001b[0;32m----> 5\u001b[0;31m \u001b[0mf\u001b[0m \u001b[0;34m=\u001b[0m \u001b[0mole\u001b[0m\u001b[0;34m.\u001b[0m\u001b[0mOleFile\u001b[0m\u001b[0;34m(\u001b[0m\u001b[0mhwp_path\u001b[0m\u001b[0;34m)\u001b[0m\u001b[0;34m\u001b[0m\u001b[0;34m\u001b[0m\u001b[0m\n\u001b[0m\u001b[1;32m      6\u001b[0m \u001b[0;34m\u001b[0m\u001b[0m\n\u001b[1;32m      7\u001b[0m \u001b[0mcontent\u001b[0m \u001b[0;34m=\u001b[0m \u001b[0mf\u001b[0m\u001b[0;34m.\u001b[0m\u001b[0mget_stream\u001b[0m\u001b[0;34m(\u001b[0m\u001b[0;34m'PrvText'\u001b[0m\u001b[0;34m)\u001b[0m\u001b[0;34m.\u001b[0m\u001b[0mdecode\u001b[0m\u001b[0;34m(\u001b[0m\u001b[0;34m'utf-16le'\u001b[0m\u001b[0;34m)\u001b[0m\u001b[0;34m\u001b[0m\u001b[0;34m\u001b[0m\u001b[0m\n",
            "\u001b[0;31mAttributeError\u001b[0m: module 'ole' has no attribute 'OleFile'"
          ]
        }
      ]
    },
    {
      "cell_type": "code",
      "source": [
        "# 한글 전체 파일 못 가져오는거 같아서 다른 코드로 시도하겠음2 >> 코드가 안 먹힘"
      ],
      "metadata": {
        "id": "s6P3fdkFyWS1"
      },
      "execution_count": null,
      "outputs": []
    },
    {
      "cell_type": "code",
      "source": [
        "# !pip install pdfminer"
      ],
      "metadata": {
        "id": "UpHa4vhKrBHN"
      },
      "execution_count": null,
      "outputs": []
    },
    {
      "cell_type": "code",
      "source": [
        "# from io import StringIO\n",
        "# from pdfminer.converter import TextConverter\n",
        "# from pdfminer.layout import LAParams\n",
        "# from pdfminer.pdfdocument import PDFDocument\n",
        "# from pdfminer.pdfinterp import PDFResourceManager, PDFPageInterpreter\n",
        "# from pdfminer.pdfpage import PDFPage\n",
        "# from pdfminer.pdfparser import PDFParser\n",
        "\n",
        "# encoding='uft-8'\n",
        "\n",
        "# def read_pdf_PDFMINER(pdf_file_path):\n",
        "#     output_string = StringIO()\n",
        "#     with open(pdf_file_path, 'rb') as f:\n",
        "#         parser = PDFParser(f)\n",
        "#         doc = PDFDocument(parser)\n",
        "#         rsrcmgr = PDFResourceManager()\n",
        "#         device = TextConverter(rsrcmgr, output_string, laparams=LAParams())\n",
        "#         interpreter = PDFPageInterpreter(rsrcmgr, device)\n",
        "#         for page in PDFPage.create_pages(doc):\n",
        "#             interpreter.process_page(page)\n",
        "#     return str(output_string.getvalue())\n",
        "\n",
        "# read_pdf_PDFMINER(\"/content/drive/MyDrive/Colab Notebooks/2차프로젝트 EasyOCR/K-Startup[공고문] 2023년 예비창업‧초기창업‧창업도약 패키지 신규 주관기관 모집공고.pdf\")"
      ],
      "metadata": {
        "id": "tZfTc0Y8qh_-"
      },
      "execution_count": null,
      "outputs": []
    },
    {
      "cell_type": "code",
      "source": [
        "# from pdfminer.pdfinterp import PDFResourceManager, PDFPageInterpreter\n",
        "# from pdfminer.converter import TextConverter\n",
        "# from pdfminer.layout import LAParams\n",
        "# from pdfminer.pdfpage import PDFPage\n",
        "# from io import StringIO\n",
        "\n",
        "# def convert_pdf_to_txt():\n",
        "#   #pdf리소스 매니저 객체 생성\n",
        "#   rsrcmgr = PDFResourceManager()\n",
        "#   #문자열 데이터를 파일처럼 처리하는 stringio -> pdf 파일 내용이 여기 담김\n",
        "#   retstr = StringIO()\n",
        "#   codec = 'utf-8'\n",
        "#   laparams = LAParams()\n",
        "#   device = TextConverter(rsrcmgr, retstr, codec=codec, laparams=laparams)\n",
        "#   fp = open('/content/drive/MyDrive/Colab Notebooks/2차프로젝트 EasyOCR/K-Startup[공고문] 2023년 예비창업‧초기창업‧창업도약 패키지 신규 주관기관 모집공고.pdf', 'rb')\n",
        "#   interpreter = PDFPageInterpreter(rsrcmgr, device)\n",
        "#   password = \"\"\n",
        "#   maxpages = 0\n",
        "#   caching = True\n",
        "#   pagenos=set()\n",
        "  \n",
        "#   for page in PDFPage.get_pages(fp, pagenos, maxpages=maxpages, password=password, caching=caching, check_extractable=True) :\n",
        "#     interpreter.process_page(page)\n",
        "#   #text에 결과가 담김\n",
        "#   text = retstr.getvalue()\n",
        "  \n",
        "#   fp.close()\n",
        "#   device.close()\n",
        "#   retstr.close()\n",
        "#   return text\n",
        "\n",
        "# v = convert_pdf_to_txt()\n",
        "# print (v)"
      ],
      "metadata": {
        "id": "MSjmbyius4cv"
      },
      "execution_count": null,
      "outputs": []
    }
  ],
  "metadata": {
    "colab": {
      "provenance": []
    },
    "gpuClass": "standard",
    "kernelspec": {
      "display_name": "Python 3",
      "name": "python3"
    },
    "language_info": {
      "name": "python"
    }
  },
  "nbformat": 4,
  "nbformat_minor": 0
}