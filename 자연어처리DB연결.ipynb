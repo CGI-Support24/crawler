{
 "cells": [
  {
   "cell_type": "code",
   "execution_count": 1,
   "id": "5751d3ea",
   "metadata": {},
   "outputs": [
    {
     "name": "stdout",
     "output_type": "stream",
     "text": [
      "Requirement already satisfied: PyMySQL in c:\\users\\smhrd\\anaconda3\\lib\\site-packages (1.0.2)\n",
      "Note: you may need to restart the kernel to use updated packages.\n"
     ]
    }
   ],
   "source": [
    "pip install PyMySQL"
   ]
  },
  {
   "cell_type": "code",
   "execution_count": 2,
   "id": "939a9178",
   "metadata": {},
   "outputs": [],
   "source": [
    "import pymysql"
   ]
  },
  {
   "cell_type": "code",
   "execution_count": 11,
   "id": "ce00c0d8",
   "metadata": {},
   "outputs": [],
   "source": [
    "conn = pymysql.connect(host='project-db-stu.ddns.net', port=3307, user='support24', password='support24', db='support24', charset='utf8')"
   ]
  },
  {
   "cell_type": "code",
   "execution_count": 28,
   "id": "077d9b81",
   "metadata": {},
   "outputs": [],
   "source": [
    "sql = \"SELECT * FROM tbl_crawling\""
   ]
  },
  {
   "cell_type": "code",
   "execution_count": 29,
   "id": "8115ca1b",
   "metadata": {},
   "outputs": [],
   "source": [
    "conn = pymysql.connect(host='project-db-stu.ddns.net', port=3307, user='support24', password='support24', db='support24', charset='utf8')\n",
    "\n",
    "with conn:\n",
    "    with conn.cursor() as cur:\n",
    "        cur.execute(sql)\n",
    "        result = cur.fetchall()"
   ]
  },
  {
   "cell_type": "code",
   "execution_count": 35,
   "id": "d20025a0",
   "metadata": {},
   "outputs": [],
   "source": [
    "textlist = []\n",
    "srclist = []\n",
    "urllist = []\n",
    "\n",
    "for i in result:\n",
    "    textlist.append(i[1])\n",
    "    srclist.append(i[3])\n",
    "    urllist.append(i[4])"
   ]
  },
  {
   "cell_type": "code",
   "execution_count": null,
   "id": "a341e851",
   "metadata": {},
   "outputs": [],
   "source": []
  }
 ],
 "metadata": {
  "kernelspec": {
   "display_name": "Python 3 (ipykernel)",
   "language": "python",
   "name": "python3"
  },
  "language_info": {
   "codemirror_mode": {
    "name": "ipython",
    "version": 3
   },
   "file_extension": ".py",
   "mimetype": "text/x-python",
   "name": "python",
   "nbconvert_exporter": "python",
   "pygments_lexer": "ipython3",
   "version": "3.9.12"
  },
  "toc": {
   "base_numbering": 1,
   "nav_menu": {},
   "number_sections": true,
   "sideBar": true,
   "skip_h1_title": false,
   "title_cell": "Table of Contents",
   "title_sidebar": "Contents",
   "toc_cell": false,
   "toc_position": {},
   "toc_section_display": true,
   "toc_window_display": false
  }
 },
 "nbformat": 4,
 "nbformat_minor": 5
}
